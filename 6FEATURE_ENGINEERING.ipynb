{
 "cells": [
  {
   "cell_type": "markdown",
   "id": "43ca2d1a-76c8-40ef-848d-074b0e3f94c4",
   "metadata": {},
   "source": [
    "Q1. Pearson correlation coefficient is a measure of the linear relationship between two variables. Suppose\n",
    "you have collected data on the amount of time students spend studying for an exam and their final exam\n",
    "scores. Calculate the Pearson correlation coefficient between these two variables and interpret the result."
   ]
  },
  {
   "cell_type": "markdown",
   "id": "06fd2ff2-3a84-4074-a52a-dada966b83a6",
   "metadata": {},
   "source": [
    "ANS:\n",
    "    \n",
    "    \n",
    "    To calculate the Pearson correlation coefficient between two variables (in this case, the amount of time students spend studying for an exam and their final exam scores), you would need a dataset with pairs of values for these two variables. Let's assume you have a sample of n data points (x_i, y_i), where x_i represents the amount of time spent studying by the ith student, and y_i represents the final exam score of the ith student.\n",
    "\n",
    "The Pearson correlation coefficient (r) is given by the formula:\n",
    "\n",
    "r = (Σ[(x_i - x̄) * (y_i - ȳ)]) / [√(Σ(x_i - x̄)^2) * √(Σ(y_i - ȳ)^2)]\n",
    "\n",
    "where x̄ is the mean of the study time values, ȳ is the mean of the exam score values, and the summations go from i = 1 to n.\n",
    "\n",
    "The interpretation of the Pearson correlation coefficient (r) is as follows:\n",
    "\n",
    "1. r = 1: A perfect positive linear relationship. This means that as the amount of time spent studying increases, the final exam scores increase proportionally.\n",
    "\n",
    "2. 0.7 < r < 1: A strong positive linear relationship. There is a strong tendency that as the study time increases, the final exam scores increase, but it might not be perfectly proportional.\n",
    "\n",
    "3. 0.3 < r < 0.7: A moderate positive linear relationship. There is a moderate tendency that as the study time increases, the final exam scores also increase.\n",
    "\n",
    "4. -0.3 < r < 0.3: A weak correlation. There is little to no linear relationship between study time and exam scores.\n",
    "\n",
    "5. -0.7 < r < -0.3: A moderate negative linear relationship. There is a moderate tendency that as the study time increases, the final exam scores decrease.\n",
    "\n",
    "6. -1 < r < -0.7: A strong negative linear relationship. There is a strong tendency that as the study time increases, the final exam scores decrease, and vice versa.\n",
    "\n",
    "7. r = -1: A perfect negative linear relationship. This means that as the amount of time spent studying increases, the final exam scores decrease proportionally.\n",
    "\n",
    "In summary, the value of r ranges from -1 to 1, with -1 indicating a perfect negative linear relationship, 1 indicating a perfect positive linear relationship, and values close to 0 indicating little to no linear relationship between the two variables. The sign (positive or negative) of r indicates the direction of the linear relationship."
   ]
  },
  {
   "cell_type": "markdown",
   "id": "0ecd04e0-5e8c-457e-9aa9-53e243eaec9f",
   "metadata": {},
   "source": [
    "Q2. Spearman's rank correlation is a measure of the monotonic relationship between two variables.\n",
    "Suppose you have collected data on the amount of sleep individuals get each night and their overall job\n",
    "satisfaction level on a scale of 1 to 10. Calculate the Spearman's rank correlation between these two\n",
    "variables and interpret the result."
   ]
  },
  {
   "cell_type": "markdown",
   "id": "97a61cde-3208-4621-a17f-7c2f7dc1caa9",
   "metadata": {},
   "source": [
    "ANS:\n",
    "    \n",
    "    \n",
    "    To calculate Spearman's rank correlation between two variables (in this case, the amount of sleep individuals get each night and their overall job satisfaction level on a scale of 1 to 10), you would need a dataset with pairs of values for these two variables. Let's assume you have a sample of n data points (x_i, y_i), where x_i represents the amount of sleep an individual gets and y_i represents their job satisfaction level.\n",
    "\n",
    "The steps to calculate Spearman's rank correlation are as follows:\n",
    "\n",
    "1. Rank the data: For each variable (sleep and job satisfaction), assign ranks based on the data values. The smallest value gets a rank of 1, the second smallest value gets a rank of 2, and so on. Ties are assigned the average rank of the tied values.\n",
    "\n",
    "2. Calculate the difference between ranks: For each data point, find the difference between the ranks of the two variables (x and y).\n",
    "\n",
    "3. Square the rank differences: Square each rank difference calculated in the previous step.\n",
    "\n",
    "4. Calculate the Spearman's rank correlation coefficient (ρ): Use the formula below to compute the correlation coefficient:\n",
    "\n",
    "ρ = 1 - [(6 * Σ(d_i^2)) / (n * (n^2 - 1))]\n",
    "\n",
    "where d_i is the difference between ranks for each data point (x_i, y_i), and n is the number of data points.\n",
    "\n",
    "The interpretation of Spearman's rank correlation coefficient (ρ) is as follows:\n",
    "\n",
    "- ρ = 1: A perfect monotonic increasing relationship. This means that as the amount of sleep individuals get each night increases, their overall job satisfaction level increases.\n",
    "\n",
    "- 0.7 < ρ < 1: A strong monotonic increasing relationship. There is a strong tendency that as the amount of sleep increases, job satisfaction also tends to increase, but it might not be a perfect relationship.\n",
    "\n",
    "- 0.3 < ρ < 0.7: A moderate monotonic increasing relationship. There is a moderate tendency that as the amount of sleep increases, job satisfaction also tends to increase.\n",
    "\n",
    "- -0.3 < ρ < 0.3: A weak or no monotonic relationship. There is little to no monotonic relationship between the amount of sleep and job satisfaction.\n",
    "\n",
    "- -0.7 < ρ < -0.3: A moderate monotonic decreasing relationship. There is a moderate tendency that as the amount of sleep increases, job satisfaction tends to decrease.\n",
    "\n",
    "- -1 < ρ < -0.7: A strong monotonic decreasing relationship. There is a strong tendency that as the amount of sleep increases, job satisfaction tends to decrease.\n",
    "\n",
    "- ρ = -1: A perfect monotonic decreasing relationship. This means that as the amount of sleep individuals get each night increases, their overall job satisfaction level decreases.\n",
    "\n",
    "In summary, the value of ρ ranges from -1 to 1, with -1 indicating a perfect monotonic decreasing relationship, 1 indicating a perfect monotonic increasing relationship, and values close to 0 indicating little to no monotonic relationship between the two variables. The sign (positive or negative) of ρ indicates the direction of the monotonic relationship."
   ]
  },
  {
   "cell_type": "markdown",
   "id": "7552f70d-cf42-4b7d-921b-24af545595fa",
   "metadata": {},
   "source": [
    "Q3. Suppose you are conducting a study to examine the relationship between the number of hours of\n",
    "exercise per week and body mass index (BMI) in a sample of adults. You collected data on both variables\n",
    "for 50 participants. Calculate the Pearson correlation coefficient and the Spearman's rank correlation\n",
    "between these two variables and compare the results."
   ]
  },
  {
   "cell_type": "markdown",
   "id": "97830ec3-5bb3-434c-b417-47013695464d",
   "metadata": {},
   "source": [
    "ANS:\n",
    "    \n",
    "    \n",
    "    To calculate both the Pearson correlation coefficient and Spearman's rank correlation coefficient between the number of hours of exercise per week and body mass index (BMI) in a sample of adults, you would need the dataset with pairs of values for these two variables for 50 participants.\n",
    "\n",
    "Let's assume you have the following data:\n",
    "\n",
    "| Participant | Hours of Exercise | BMI |\n",
    "|-------------|------------------|-----|\n",
    "| 1           | 5                | 23  |\n",
    "| 2           | 7                | 25  |\n",
    "| ...         | ...              | ... |\n",
    "| 50          | 4                | 27  |\n",
    "\n",
    "Step 1: Calculate the Pearson correlation coefficient (r):\n",
    "\n",
    "The Pearson correlation coefficient (r) is calculated using the formula I mentioned in the previous response. It measures the linear relationship between the two variables. The value of r ranges from -1 to 1, where -1 indicates a perfect negative linear relationship, 1 indicates a perfect positive linear relationship, and values close to 0 indicate little to no linear relationship.\n",
    "\n",
    "Step 2: Calculate the Spearman's rank correlation coefficient (ρ):\n",
    "\n",
    "The Spearman's rank correlation coefficient (ρ) is calculated using the formula I mentioned earlier as well. It measures the monotonic relationship between the two variables. The value of ρ ranges from -1 to 1, where -1 indicates a perfect monotonic decreasing relationship, 1 indicates a perfect monotonic increasing relationship, and values close to 0 indicate little to no monotonic relationship.\n",
    "\n",
    "The key difference between the two correlation coefficients is that Pearson correlation measures the strength of a linear relationship, while Spearman's rank correlation measures the strength of a monotonic relationship. If the relationship between the variables is linear, both correlation coefficients would provide similar results. However, if the relationship is non-linear, Spearman's rank correlation might be more appropriate.\n",
    "\n",
    "After calculating both correlation coefficients, compare their values to understand the nature of the relationship between the number of hours of exercise per week and BMI in your sample of adults. If both coefficients are close to 1 or -1, it indicates a strong linear or monotonic relationship, respectively. If both coefficients are close to 0, it suggests a weak or no relationship. If the coefficients differ substantially, it might indicate a non-linear relationship that is better captured by Spearman's rank correlation."
   ]
  },
  {
   "cell_type": "markdown",
   "id": "e01102a8-98b1-4f0e-9566-69d12ed6970e",
   "metadata": {},
   "source": [
    "Q4. A researcher is interested in examining the relationship between the number of hours individuals\n",
    "spend watching television per day and their level of physical activity. The researcher collected data on\n",
    "both variables from a sample of 50 participants. Calculate the Pearson correlation coefficient between\n",
    "these two variables."
   ]
  },
  {
   "cell_type": "markdown",
   "id": "3a6b184f-51ab-4a0c-bce2-402a80e42d91",
   "metadata": {},
   "source": [
    "ANS:\n",
    "    \n",
    "    \n",
    "    To calculate the Pearson correlation coefficient between the number of hours individuals spend watching television per day and their level of physical activity, you would need the dataset with pairs of values for these two variables for 50 participants.\n",
    "\n",
    "Let's assume you have the following data:\n",
    "\n",
    "| Participant | Hours of TV Watching | Level of Physical Activity |\n",
    "|-------------|----------------------|---------------------------|\n",
    "| 1           | 2.5                  | 3                         |\n",
    "| 2           | 1.8                  | 4                         |\n",
    "| ...         | ...                  | ...                       |\n",
    "| 50          | 3.2                  | 2                         |\n",
    "\n",
    "The Pearson correlation coefficient (r) is calculated using the following formula:\n",
    "\n",
    "r = Σ[(x_i - x̄) * (y_i - ȳ)] / [√(Σ(x_i - x̄)^2) * √(Σ(y_i - ȳ)^2)]\n",
    "\n",
    "where:\n",
    "- x_i is the value of the hours of TV watching for each participant.\n",
    "- y_i is the value of the level of physical activity for each participant.\n",
    "- x̄ is the mean of the hours of TV watching.\n",
    "- ȳ is the mean of the level of physical activity.\n",
    "\n",
    "Step 1: Calculate the means of both variables (hours of TV watching and level of physical activity):\n",
    "\n",
    "x̄ (mean of hours of TV watching) = (2.5 + 1.8 + ... + 3.2) / 50\n",
    "ȳ (mean of level of physical activity) = (3 + 4 + ... + 2) / 50\n",
    "\n",
    "Step 2: Calculate the Pearson correlation coefficient:\n",
    "\n",
    "1. For each participant, calculate (x_i - x̄) and (y_i - ȳ).\n",
    "2. For each participant, multiply (x_i - x̄) with (y_i - ȳ).\n",
    "3. Sum up all the products obtained in step 2.\n",
    "4. For each participant, calculate (x_i - x̄)^2 and (y_i - ȳ)^2.\n",
    "5. Sum up all the values obtained in step 4.\n",
    "6. Take the square root of the value obtained in step 5.\n",
    "7. Divide the result from step 3 by the result from step 6.\n",
    "\n",
    "After following these steps, you will obtain the Pearson correlation coefficient (r), which will be a value between -1 and 1. A positive value indicates a positive correlation (as hours of TV watching increase, the level of physical activity tends to increase), while a negative value indicates a negative correlation (as hours of TV watching increase, the level of physical activity tends to decrease). Values close to 0 indicate little to no linear relationship between the two variables.\n",
    "\n",
    "Remember that correlation does not imply causation. A correlation between these two variables does not necessarily mean that watching more TV causes lower physical activity or vice versa. It only indicates that there is an association between the two variables in the sample data."
   ]
  },
  {
   "cell_type": "markdown",
   "id": "f48965ab-6d94-4abf-ab21-24bdfe4d2793",
   "metadata": {},
   "source": [
    "Q5. A survey was conducted to examine the relationship between age and preference for a particular\n",
    "brand of soft drink. The survey results are shown below:\n",
    "\n",
    "\n",
    "\n",
    "Age(Years)\n",
    "25 \n",
    "42 \n",
    "37\n",
    "19\n",
    "31\n",
    "28\n",
    "\n",
    "\n",
    "Mountain dew\n",
    "Coke\n",
    "Pepsi\n",
    "Coke\n",
    "Soft drink Preference\n"
   ]
  },
  {
   "cell_type": "code",
   "execution_count": null,
   "id": "aad7b49a-570d-441c-9db9-f9300bc43c65",
   "metadata": {},
   "outputs": [],
   "source": [
    "ans:\n",
    "    \n",
    "    "
   ]
  }
 ],
 "metadata": {
  "kernelspec": {
   "display_name": "Python 3 (ipykernel)",
   "language": "python",
   "name": "python3"
  },
  "language_info": {
   "codemirror_mode": {
    "name": "ipython",
    "version": 3
   },
   "file_extension": ".py",
   "mimetype": "text/x-python",
   "name": "python",
   "nbconvert_exporter": "python",
   "pygments_lexer": "ipython3",
   "version": "3.10.8"
  }
 },
 "nbformat": 4,
 "nbformat_minor": 5
}
